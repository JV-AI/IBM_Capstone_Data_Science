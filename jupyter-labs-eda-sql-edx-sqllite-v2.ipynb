{
 "cells": [
  {
   "cell_type": "markdown",
   "id": "0a6fa830-b2ff-4aff-af2d-ef2da4a7b918",
   "metadata": {},
   "source": [
    "<p style=\"text-align:center\">\n",
    "    <a href=\"https://skills.network\" target=\"_blank\">\n",
    "    <img src=\"https://cf-courses-data.s3.us.cloud-object-storage.appdomain.cloud/assets/logos/SN_web_lightmode.png\" width=\"200\" alt=\"Skills Network Logo\">\n",
    "    </a>\n",
    "</p>\n",
    "\n",
    "<h1 align=center><font size = 5>Hands-on Lab: Complete the EDA with SQL</font></h1>\n",
    "\n",
    "Estimated time needed: **60** minutes.\n",
    "\n",
    "## Introduction\n",
    "Using this Python notebook you will:\n",
    "\n",
    "1.  Understand the Spacex DataSet\n",
    "2.  Load the dataset  into the corresponding table in a Db2 database\n",
    "3.  Execute SQL queries to answer assignment questions \n"
   ]
  },
  {
   "cell_type": "markdown",
   "id": "5414460f-5ef1-487f-9042-c4335da890a9",
   "metadata": {},
   "source": [
    "## Overview of the DataSet\n",
    "\n",
    "SpaceX has gained worldwide attention for a series of historic milestones. \n",
    "\n",
    "It is the only private company ever to return a spacecraft from low-earth orbit, which it first accomplished in December 2010.\n",
    "SpaceX advertises Falcon 9 rocket launches on its website with a cost of 62 million dollars wheras other providers cost upward of 165 million dollars each, much of the savings is because Space X can reuse the first stage. \n",
    "\n",
    "\n",
    "Therefore if we can determine if the first stage will land, we can determine the cost of a launch. \n",
    "\n",
    "This information can be used if an alternate company wants to bid against SpaceX for a rocket launch.\n",
    "\n",
    "This dataset includes a record for each payload carried during a SpaceX mission into outer space.\n"
   ]
  },
  {
   "cell_type": "markdown",
   "id": "9f186b1f-9cb3-4a2f-b840-e321cd0dff3d",
   "metadata": {},
   "source": [
    "### Download the datasets\n",
    "\n",
    "This assignment requires you to load the spacex dataset.\n",
    "\n",
    "In many cases the dataset to be analyzed is available as a .CSV (comma separated values) file, perhaps on the internet. Click on the link below to download and save the dataset (.CSV file):\n",
    "\n",
    " <a href=\"https://cf-courses-data.s3.us.cloud-object-storage.appdomain.cloud/IBM-DS0321EN-SkillsNetwork/labs/module_2/data/Spacex.csv\" target=\"_blank\">Spacex DataSet</a>\n",
    "\n"
   ]
  },
  {
   "cell_type": "code",
   "execution_count": null,
   "id": "5288b5e5-143c-47de-be6d-385396915745",
   "metadata": {},
   "outputs": [],
   "source": [
    "# !pip install sqlalchemy==1.4\n",
    "# !pip install ipython-sql\n",
    "# !pip install pandas"
   ]
  },
  {
   "cell_type": "code",
   "execution_count": 3,
   "metadata": {},
   "outputs": [],
   "source": [
    "import warnings\n",
    "warnings.filterwarnings(\"ignore\")"
   ]
  },
  {
   "cell_type": "markdown",
   "id": "ea24c7b4-c5cc-41c0-9815-c334a1905345",
   "metadata": {},
   "source": [
    "### Connect to the database\n",
    "\n",
    "Let us first load the SQL extension and establish a connection with the database\n"
   ]
  },
  {
   "cell_type": "code",
   "execution_count": null,
   "id": "d780ddb6-6c01-415a-845c-70c7d875d6fb",
   "metadata": {},
   "outputs": [],
   "source": [
    "# %load_ext sql"
   ]
  },
  {
   "cell_type": "code",
   "execution_count": 1,
   "id": "99e3c0ef-6493-40ee-a9c5-b31a7af50265",
   "metadata": {},
   "outputs": [],
   "source": [
    "import csv, sqlite3\n",
    "\n",
    "con = sqlite3.connect(\"my_data1.db\")\n",
    "cur = con.cursor()"
   ]
  },
  {
   "cell_type": "code",
   "execution_count": null,
   "id": "d1bbd985-d33b-48a8-bfad-0bd4dc4f895c",
   "metadata": {},
   "outputs": [],
   "source": [
    "# %sql sqlite:///my_data1.db"
   ]
  },
  {
   "cell_type": "code",
   "execution_count": null,
   "id": "7e7311b7-baa8-489d-a5fe-e7c8173c9c88",
   "metadata": {},
   "outputs": [
    {
     "data": {
      "text/plain": [
       "101"
      ]
     },
     "execution_count": 4,
     "metadata": {},
     "output_type": "execute_result"
    }
   ],
   "source": [
    "# Creating and saving the dataset\n",
    "import pandas as pd\n",
    "df = pd.read_csv(\"https://cf-courses-data.s3.us.cloud-object-storage.appdomain.cloud/IBM-DS0321EN-SkillsNetwork/labs/module_2/data/Spacex.csv\")\n",
    "df.to_sql(\"SPACEXTBL\", con, if_exists='replace', index=False,method=\"multi\")"
   ]
  },
  {
   "cell_type": "code",
   "execution_count": 5,
   "metadata": {},
   "outputs": [
    {
     "data": {
      "text/html": [
       "<div>\n",
       "<style scoped>\n",
       "    .dataframe tbody tr th:only-of-type {\n",
       "        vertical-align: middle;\n",
       "    }\n",
       "\n",
       "    .dataframe tbody tr th {\n",
       "        vertical-align: top;\n",
       "    }\n",
       "\n",
       "    .dataframe thead th {\n",
       "        text-align: right;\n",
       "    }\n",
       "</style>\n",
       "<table border=\"1\" class=\"dataframe\">\n",
       "  <thead>\n",
       "    <tr style=\"text-align: right;\">\n",
       "      <th></th>\n",
       "      <th>Date</th>\n",
       "      <th>Time (UTC)</th>\n",
       "      <th>Booster_Version</th>\n",
       "      <th>Launch_Site</th>\n",
       "      <th>Payload</th>\n",
       "      <th>PAYLOAD_MASS__KG_</th>\n",
       "      <th>Orbit</th>\n",
       "      <th>Customer</th>\n",
       "      <th>Mission_Outcome</th>\n",
       "      <th>Landing_Outcome</th>\n",
       "    </tr>\n",
       "  </thead>\n",
       "  <tbody>\n",
       "    <tr>\n",
       "      <th>0</th>\n",
       "      <td>2010-06-04</td>\n",
       "      <td>18:45:00</td>\n",
       "      <td>F9 v1.0  B0003</td>\n",
       "      <td>CCAFS LC-40</td>\n",
       "      <td>Dragon Spacecraft Qualification Unit</td>\n",
       "      <td>0</td>\n",
       "      <td>LEO</td>\n",
       "      <td>SpaceX</td>\n",
       "      <td>Success</td>\n",
       "      <td>Failure (parachute)</td>\n",
       "    </tr>\n",
       "    <tr>\n",
       "      <th>1</th>\n",
       "      <td>2010-12-08</td>\n",
       "      <td>15:43:00</td>\n",
       "      <td>F9 v1.0  B0004</td>\n",
       "      <td>CCAFS LC-40</td>\n",
       "      <td>Dragon demo flight C1, two CubeSats, barrel of...</td>\n",
       "      <td>0</td>\n",
       "      <td>LEO (ISS)</td>\n",
       "      <td>NASA (COTS) NRO</td>\n",
       "      <td>Success</td>\n",
       "      <td>Failure (parachute)</td>\n",
       "    </tr>\n",
       "    <tr>\n",
       "      <th>2</th>\n",
       "      <td>2012-05-22</td>\n",
       "      <td>7:44:00</td>\n",
       "      <td>F9 v1.0  B0005</td>\n",
       "      <td>CCAFS LC-40</td>\n",
       "      <td>Dragon demo flight C2</td>\n",
       "      <td>525</td>\n",
       "      <td>LEO (ISS)</td>\n",
       "      <td>NASA (COTS)</td>\n",
       "      <td>Success</td>\n",
       "      <td>No attempt</td>\n",
       "    </tr>\n",
       "    <tr>\n",
       "      <th>3</th>\n",
       "      <td>2012-10-08</td>\n",
       "      <td>0:35:00</td>\n",
       "      <td>F9 v1.0  B0006</td>\n",
       "      <td>CCAFS LC-40</td>\n",
       "      <td>SpaceX CRS-1</td>\n",
       "      <td>500</td>\n",
       "      <td>LEO (ISS)</td>\n",
       "      <td>NASA (CRS)</td>\n",
       "      <td>Success</td>\n",
       "      <td>No attempt</td>\n",
       "    </tr>\n",
       "    <tr>\n",
       "      <th>4</th>\n",
       "      <td>2013-03-01</td>\n",
       "      <td>15:10:00</td>\n",
       "      <td>F9 v1.0  B0007</td>\n",
       "      <td>CCAFS LC-40</td>\n",
       "      <td>SpaceX CRS-2</td>\n",
       "      <td>677</td>\n",
       "      <td>LEO (ISS)</td>\n",
       "      <td>NASA (CRS)</td>\n",
       "      <td>Success</td>\n",
       "      <td>No attempt</td>\n",
       "    </tr>\n",
       "  </tbody>\n",
       "</table>\n",
       "</div>"
      ],
      "text/plain": [
       "         Date Time (UTC) Booster_Version  Launch_Site  \\\n",
       "0  2010-06-04   18:45:00  F9 v1.0  B0003  CCAFS LC-40   \n",
       "1  2010-12-08   15:43:00  F9 v1.0  B0004  CCAFS LC-40   \n",
       "2  2012-05-22    7:44:00  F9 v1.0  B0005  CCAFS LC-40   \n",
       "3  2012-10-08    0:35:00  F9 v1.0  B0006  CCAFS LC-40   \n",
       "4  2013-03-01   15:10:00  F9 v1.0  B0007  CCAFS LC-40   \n",
       "\n",
       "                                             Payload  PAYLOAD_MASS__KG_  \\\n",
       "0               Dragon Spacecraft Qualification Unit                  0   \n",
       "1  Dragon demo flight C1, two CubeSats, barrel of...                  0   \n",
       "2                              Dragon demo flight C2                525   \n",
       "3                                       SpaceX CRS-1                500   \n",
       "4                                       SpaceX CRS-2                677   \n",
       "\n",
       "       Orbit         Customer Mission_Outcome      Landing_Outcome  \n",
       "0        LEO           SpaceX         Success  Failure (parachute)  \n",
       "1  LEO (ISS)  NASA (COTS) NRO         Success  Failure (parachute)  \n",
       "2  LEO (ISS)      NASA (COTS)         Success           No attempt  \n",
       "3  LEO (ISS)       NASA (CRS)         Success           No attempt  \n",
       "4  LEO (ISS)       NASA (CRS)         Success           No attempt  "
      ]
     },
     "execution_count": 5,
     "metadata": {},
     "output_type": "execute_result"
    }
   ],
   "source": [
    "df.head()"
   ]
  },
  {
   "cell_type": "code",
   "execution_count": 6,
   "metadata": {},
   "outputs": [
    {
     "data": {
      "text/html": [
       "<div>\n",
       "<style scoped>\n",
       "    .dataframe tbody tr th:only-of-type {\n",
       "        vertical-align: middle;\n",
       "    }\n",
       "\n",
       "    .dataframe tbody tr th {\n",
       "        vertical-align: top;\n",
       "    }\n",
       "\n",
       "    .dataframe thead th {\n",
       "        text-align: right;\n",
       "    }\n",
       "</style>\n",
       "<table border=\"1\" class=\"dataframe\">\n",
       "  <thead>\n",
       "    <tr style=\"text-align: right;\">\n",
       "      <th></th>\n",
       "      <th>Date</th>\n",
       "      <th>Time (UTC)</th>\n",
       "      <th>Booster_Version</th>\n",
       "      <th>Launch_Site</th>\n",
       "      <th>Payload</th>\n",
       "      <th>PAYLOAD_MASS__KG_</th>\n",
       "      <th>Orbit</th>\n",
       "      <th>Customer</th>\n",
       "      <th>Mission_Outcome</th>\n",
       "      <th>Landing_Outcome</th>\n",
       "    </tr>\n",
       "  </thead>\n",
       "  <tbody>\n",
       "    <tr>\n",
       "      <th>3</th>\n",
       "      <td>2012-10-08</td>\n",
       "      <td>0:35:00</td>\n",
       "      <td>F9 v1.0  B0006</td>\n",
       "      <td>CCAFS LC-40</td>\n",
       "      <td>SpaceX CRS-1</td>\n",
       "      <td>500</td>\n",
       "      <td>LEO (ISS)</td>\n",
       "      <td>NASA (CRS)</td>\n",
       "      <td>Success</td>\n",
       "      <td>No attempt</td>\n",
       "    </tr>\n",
       "    <tr>\n",
       "      <th>4</th>\n",
       "      <td>2013-03-01</td>\n",
       "      <td>15:10:00</td>\n",
       "      <td>F9 v1.0  B0007</td>\n",
       "      <td>CCAFS LC-40</td>\n",
       "      <td>SpaceX CRS-2</td>\n",
       "      <td>677</td>\n",
       "      <td>LEO (ISS)</td>\n",
       "      <td>NASA (CRS)</td>\n",
       "      <td>Success</td>\n",
       "      <td>No attempt</td>\n",
       "    </tr>\n",
       "    <tr>\n",
       "      <th>8</th>\n",
       "      <td>2014-04-18</td>\n",
       "      <td>19:25:00</td>\n",
       "      <td>F9 v1.1</td>\n",
       "      <td>CCAFS LC-40</td>\n",
       "      <td>SpaceX CRS-3</td>\n",
       "      <td>2296</td>\n",
       "      <td>LEO (ISS)</td>\n",
       "      <td>NASA (CRS)</td>\n",
       "      <td>Success</td>\n",
       "      <td>Controlled (ocean)</td>\n",
       "    </tr>\n",
       "    <tr>\n",
       "      <th>12</th>\n",
       "      <td>2014-09-21</td>\n",
       "      <td>5:52:00</td>\n",
       "      <td>F9 v1.1 B1010</td>\n",
       "      <td>CCAFS LC-40</td>\n",
       "      <td>SpaceX CRS-4</td>\n",
       "      <td>2216</td>\n",
       "      <td>LEO (ISS)</td>\n",
       "      <td>NASA (CRS)</td>\n",
       "      <td>Success</td>\n",
       "      <td>Uncontrolled (ocean)</td>\n",
       "    </tr>\n",
       "    <tr>\n",
       "      <th>13</th>\n",
       "      <td>2015-01-10</td>\n",
       "      <td>9:47:00</td>\n",
       "      <td>F9 v1.1 B1012</td>\n",
       "      <td>CCAFS LC-40</td>\n",
       "      <td>SpaceX CRS-5</td>\n",
       "      <td>2395</td>\n",
       "      <td>LEO (ISS)</td>\n",
       "      <td>NASA (CRS)</td>\n",
       "      <td>Success</td>\n",
       "      <td>Failure (drone ship)</td>\n",
       "    </tr>\n",
       "    <tr>\n",
       "      <th>16</th>\n",
       "      <td>2015-04-14</td>\n",
       "      <td>20:10:00</td>\n",
       "      <td>F9 v1.1 B1015</td>\n",
       "      <td>CCAFS LC-40</td>\n",
       "      <td>SpaceX CRS-6</td>\n",
       "      <td>1898</td>\n",
       "      <td>LEO (ISS)</td>\n",
       "      <td>NASA (CRS)</td>\n",
       "      <td>Success</td>\n",
       "      <td>Failure (drone ship)</td>\n",
       "    </tr>\n",
       "    <tr>\n",
       "      <th>18</th>\n",
       "      <td>2015-06-28</td>\n",
       "      <td>14:21:00</td>\n",
       "      <td>F9 v1.1 B1018</td>\n",
       "      <td>CCAFS LC-40</td>\n",
       "      <td>SpaceX CRS-7</td>\n",
       "      <td>1952</td>\n",
       "      <td>LEO (ISS)</td>\n",
       "      <td>NASA (CRS)</td>\n",
       "      <td>Failure (in flight)</td>\n",
       "      <td>Precluded (drone ship)</td>\n",
       "    </tr>\n",
       "    <tr>\n",
       "      <th>22</th>\n",
       "      <td>2016-04-08</td>\n",
       "      <td>20:43:00</td>\n",
       "      <td>F9 FT B1021.1</td>\n",
       "      <td>CCAFS LC-40</td>\n",
       "      <td>SpaceX CRS-8</td>\n",
       "      <td>3136</td>\n",
       "      <td>LEO (ISS)</td>\n",
       "      <td>NASA (CRS)</td>\n",
       "      <td>Success</td>\n",
       "      <td>Success (drone ship)</td>\n",
       "    </tr>\n",
       "    <tr>\n",
       "      <th>26</th>\n",
       "      <td>2016-07-18</td>\n",
       "      <td>4:45:00</td>\n",
       "      <td>F9 FT B1025.1</td>\n",
       "      <td>CCAFS LC-40</td>\n",
       "      <td>SpaceX CRS-9</td>\n",
       "      <td>2257</td>\n",
       "      <td>LEO (ISS)</td>\n",
       "      <td>NASA (CRS)</td>\n",
       "      <td>Success</td>\n",
       "      <td>Success (ground pad)</td>\n",
       "    </tr>\n",
       "    <tr>\n",
       "      <th>29</th>\n",
       "      <td>2017-02-19</td>\n",
       "      <td>14:39:00</td>\n",
       "      <td>F9 FT B1031.1</td>\n",
       "      <td>KSC LC-39A</td>\n",
       "      <td>SpaceX CRS-10</td>\n",
       "      <td>2490</td>\n",
       "      <td>LEO (ISS)</td>\n",
       "      <td>NASA (CRS)</td>\n",
       "      <td>Success</td>\n",
       "      <td>Success (ground pad)</td>\n",
       "    </tr>\n",
       "    <tr>\n",
       "      <th>34</th>\n",
       "      <td>2017-06-03</td>\n",
       "      <td>21:07:00</td>\n",
       "      <td>F9 FT B1035.1</td>\n",
       "      <td>KSC LC-39A</td>\n",
       "      <td>SpaceX CRS-11</td>\n",
       "      <td>2708</td>\n",
       "      <td>LEO (ISS)</td>\n",
       "      <td>NASA (CRS)</td>\n",
       "      <td>Success</td>\n",
       "      <td>Success (ground pad)</td>\n",
       "    </tr>\n",
       "    <tr>\n",
       "      <th>38</th>\n",
       "      <td>2017-08-14</td>\n",
       "      <td>16:31:00</td>\n",
       "      <td>F9 B4 B1039.1</td>\n",
       "      <td>KSC LC-39A</td>\n",
       "      <td>SpaceX CRS-12</td>\n",
       "      <td>3310</td>\n",
       "      <td>LEO (ISS)</td>\n",
       "      <td>NASA (CRS)</td>\n",
       "      <td>Success</td>\n",
       "      <td>Success (ground pad)</td>\n",
       "    </tr>\n",
       "    <tr>\n",
       "      <th>44</th>\n",
       "      <td>2017-12-15</td>\n",
       "      <td>15:36:00</td>\n",
       "      <td>F9 FT  B1035.2</td>\n",
       "      <td>CCAFS SLC-40</td>\n",
       "      <td>SpaceX CRS-13</td>\n",
       "      <td>2205</td>\n",
       "      <td>LEO (ISS)</td>\n",
       "      <td>NASA (CRS)</td>\n",
       "      <td>Success</td>\n",
       "      <td>Success (ground pad)</td>\n",
       "    </tr>\n",
       "    <tr>\n",
       "      <th>51</th>\n",
       "      <td>2018-04-02</td>\n",
       "      <td>20:30:00</td>\n",
       "      <td>F9 B4  B1039.2</td>\n",
       "      <td>CCAFS SLC-40</td>\n",
       "      <td>SpaceX CRS-14</td>\n",
       "      <td>2647</td>\n",
       "      <td>LEO (ISS)</td>\n",
       "      <td>NASA (CRS)</td>\n",
       "      <td>Success</td>\n",
       "      <td>No attempt</td>\n",
       "    </tr>\n",
       "    <tr>\n",
       "      <th>56</th>\n",
       "      <td>2018-06-29</td>\n",
       "      <td>9:42:00</td>\n",
       "      <td>F9 B4 B1045.2</td>\n",
       "      <td>CCAFS SLC-40</td>\n",
       "      <td>SpaceX CRS-15</td>\n",
       "      <td>2697</td>\n",
       "      <td>LEO (ISS)</td>\n",
       "      <td>NASA (CRS)</td>\n",
       "      <td>Success</td>\n",
       "      <td>No attempt</td>\n",
       "    </tr>\n",
       "    <tr>\n",
       "      <th>64</th>\n",
       "      <td>2018-12-05</td>\n",
       "      <td>18:16:00</td>\n",
       "      <td>F9 B5B1050</td>\n",
       "      <td>CCAFS SLC-40</td>\n",
       "      <td>SpaceX CRS-16</td>\n",
       "      <td>2500</td>\n",
       "      <td>LEO (ISS)</td>\n",
       "      <td>NASA (CRS)</td>\n",
       "      <td>Success</td>\n",
       "      <td>Failure</td>\n",
       "    </tr>\n",
       "    <tr>\n",
       "      <th>69</th>\n",
       "      <td>2019-05-04</td>\n",
       "      <td>6:48:00</td>\n",
       "      <td>F9 B5B1056.1</td>\n",
       "      <td>CCAFS SLC-40</td>\n",
       "      <td>SpaceX CRS-17, Starlink v0.9</td>\n",
       "      <td>2495</td>\n",
       "      <td>LEO (ISS)</td>\n",
       "      <td>NASA (CRS)</td>\n",
       "      <td>Success</td>\n",
       "      <td>Success</td>\n",
       "    </tr>\n",
       "    <tr>\n",
       "      <th>72</th>\n",
       "      <td>2019-07-25</td>\n",
       "      <td>22:01:00</td>\n",
       "      <td>F9 B5 B1056.2</td>\n",
       "      <td>CCAFS SLC-40</td>\n",
       "      <td>SpaceX CRS-18, AMOS-17</td>\n",
       "      <td>2268</td>\n",
       "      <td>LEO (ISS)</td>\n",
       "      <td>NASA (CRS)</td>\n",
       "      <td>Success</td>\n",
       "      <td>Success</td>\n",
       "    </tr>\n",
       "    <tr>\n",
       "      <th>81</th>\n",
       "      <td>2020-03-07</td>\n",
       "      <td>4:50:00</td>\n",
       "      <td>F9 B5 B1059.2</td>\n",
       "      <td>CCAFS SLC-40</td>\n",
       "      <td>SpaceX CRS-20, Starlink 5 v1.0</td>\n",
       "      <td>1977</td>\n",
       "      <td>LEO (ISS)</td>\n",
       "      <td>NASA (CRS)</td>\n",
       "      <td>Success</td>\n",
       "      <td>Success</td>\n",
       "    </tr>\n",
       "    <tr>\n",
       "      <th>100</th>\n",
       "      <td>2020-12-06</td>\n",
       "      <td>16:17:08</td>\n",
       "      <td>F9 B5 B1058.4</td>\n",
       "      <td>KSC LC-39A</td>\n",
       "      <td>SpaceX CRS-21</td>\n",
       "      <td>2972</td>\n",
       "      <td>LEO (ISS)</td>\n",
       "      <td>NASA (CRS)</td>\n",
       "      <td>Success</td>\n",
       "      <td>Success</td>\n",
       "    </tr>\n",
       "  </tbody>\n",
       "</table>\n",
       "</div>"
      ],
      "text/plain": [
       "           Date Time (UTC) Booster_Version   Launch_Site  \\\n",
       "3    2012-10-08    0:35:00  F9 v1.0  B0006   CCAFS LC-40   \n",
       "4    2013-03-01   15:10:00  F9 v1.0  B0007   CCAFS LC-40   \n",
       "8    2014-04-18   19:25:00         F9 v1.1   CCAFS LC-40   \n",
       "12   2014-09-21    5:52:00   F9 v1.1 B1010   CCAFS LC-40   \n",
       "13   2015-01-10    9:47:00   F9 v1.1 B1012   CCAFS LC-40   \n",
       "16   2015-04-14   20:10:00   F9 v1.1 B1015   CCAFS LC-40   \n",
       "18   2015-06-28   14:21:00   F9 v1.1 B1018   CCAFS LC-40   \n",
       "22   2016-04-08   20:43:00   F9 FT B1021.1   CCAFS LC-40   \n",
       "26   2016-07-18    4:45:00   F9 FT B1025.1   CCAFS LC-40   \n",
       "29   2017-02-19   14:39:00   F9 FT B1031.1    KSC LC-39A   \n",
       "34   2017-06-03   21:07:00   F9 FT B1035.1    KSC LC-39A   \n",
       "38   2017-08-14   16:31:00   F9 B4 B1039.1    KSC LC-39A   \n",
       "44   2017-12-15   15:36:00  F9 FT  B1035.2  CCAFS SLC-40   \n",
       "51   2018-04-02   20:30:00  F9 B4  B1039.2  CCAFS SLC-40   \n",
       "56   2018-06-29    9:42:00   F9 B4 B1045.2  CCAFS SLC-40   \n",
       "64   2018-12-05   18:16:00      F9 B5B1050  CCAFS SLC-40   \n",
       "69   2019-05-04    6:48:00   F9 B5B1056.1   CCAFS SLC-40   \n",
       "72   2019-07-25   22:01:00  F9 B5 B1056.2   CCAFS SLC-40   \n",
       "81   2020-03-07    4:50:00   F9 B5 B1059.2  CCAFS SLC-40   \n",
       "100  2020-12-06   16:17:08  F9 B5 B1058.4     KSC LC-39A   \n",
       "\n",
       "                             Payload  PAYLOAD_MASS__KG_      Orbit  \\\n",
       "3                       SpaceX CRS-1                500  LEO (ISS)   \n",
       "4                       SpaceX CRS-2                677  LEO (ISS)   \n",
       "8                       SpaceX CRS-3               2296  LEO (ISS)   \n",
       "12                      SpaceX CRS-4               2216  LEO (ISS)   \n",
       "13                      SpaceX CRS-5               2395  LEO (ISS)   \n",
       "16                      SpaceX CRS-6               1898  LEO (ISS)   \n",
       "18                      SpaceX CRS-7               1952  LEO (ISS)   \n",
       "22                      SpaceX CRS-8               3136  LEO (ISS)   \n",
       "26                      SpaceX CRS-9               2257  LEO (ISS)   \n",
       "29                     SpaceX CRS-10               2490  LEO (ISS)   \n",
       "34                     SpaceX CRS-11               2708  LEO (ISS)   \n",
       "38                     SpaceX CRS-12               3310  LEO (ISS)   \n",
       "44                     SpaceX CRS-13               2205  LEO (ISS)   \n",
       "51                     SpaceX CRS-14               2647  LEO (ISS)   \n",
       "56                     SpaceX CRS-15               2697  LEO (ISS)   \n",
       "64                     SpaceX CRS-16               2500  LEO (ISS)   \n",
       "69      SpaceX CRS-17, Starlink v0.9               2495  LEO (ISS)   \n",
       "72           SpaceX CRS-18, AMOS-17                2268  LEO (ISS)   \n",
       "81   SpaceX CRS-20, Starlink 5 v1.0                1977  LEO (ISS)   \n",
       "100                    SpaceX CRS-21               2972  LEO (ISS)   \n",
       "\n",
       "       Customer      Mission_Outcome         Landing_Outcome  \n",
       "3    NASA (CRS)              Success              No attempt  \n",
       "4    NASA (CRS)              Success              No attempt  \n",
       "8    NASA (CRS)              Success      Controlled (ocean)  \n",
       "12   NASA (CRS)              Success    Uncontrolled (ocean)  \n",
       "13   NASA (CRS)              Success    Failure (drone ship)  \n",
       "16   NASA (CRS)              Success    Failure (drone ship)  \n",
       "18   NASA (CRS)  Failure (in flight)  Precluded (drone ship)  \n",
       "22   NASA (CRS)              Success    Success (drone ship)  \n",
       "26   NASA (CRS)              Success    Success (ground pad)  \n",
       "29   NASA (CRS)              Success    Success (ground pad)  \n",
       "34   NASA (CRS)              Success    Success (ground pad)  \n",
       "38   NASA (CRS)              Success    Success (ground pad)  \n",
       "44   NASA (CRS)              Success    Success (ground pad)  \n",
       "51   NASA (CRS)              Success              No attempt  \n",
       "56   NASA (CRS)              Success              No attempt  \n",
       "64   NASA (CRS)              Success                 Failure  \n",
       "69   NASA (CRS)              Success                 Success  \n",
       "72   NASA (CRS)              Success                 Success  \n",
       "81   NASA (CRS)              Success                 Success  \n",
       "100  NASA (CRS)              Success                 Success  "
      ]
     },
     "execution_count": 6,
     "metadata": {},
     "output_type": "execute_result"
    }
   ],
   "source": [
    "# Examening the dataset Customer feature\n",
    "df[df[\"Customer\"]==\"NASA (CRS)\"]"
   ]
  },
  {
   "cell_type": "markdown",
   "id": "452d6eac-2c6a-4bba-b490-ba4ef269fe89",
   "metadata": {},
   "source": [
    "**Note:This below code is added to remove blank rows from table**\n"
   ]
  },
  {
   "cell_type": "code",
   "execution_count": null,
   "id": "d31936aa-b3a8-461f-b1e2-25e593106c06",
   "metadata": {},
   "outputs": [],
   "source": [
    "# %sql create table SPACEXTABLE as select * from SPACEXTBL where Date is not null"
   ]
  },
  {
   "cell_type": "code",
   "execution_count": null,
   "metadata": {},
   "outputs": [],
   "source": [
    "# Execute this if the table does not exist in the database\n",
    "# cur.execute(\"create table SPACEXTABLE as select * from SPACEXTBL where Date is not null\")"
   ]
  },
  {
   "cell_type": "code",
   "execution_count": 8,
   "metadata": {},
   "outputs": [
    {
     "data": {
      "text/plain": [
       "[('SPACEXTABLE',), ('SPACEXTBL',)]"
      ]
     },
     "execution_count": 8,
     "metadata": {},
     "output_type": "execute_result"
    }
   ],
   "source": [
    "# Fetching the table names\n",
    "cur.execute(\"select name from sqlite_master where type='table'\").fetchall()"
   ]
  },
  {
   "cell_type": "code",
   "execution_count": 30,
   "metadata": {},
   "outputs": [
    {
     "data": {
      "text/plain": [
       "[(0, 'Date', 'TEXT', 0, None, 0),\n",
       " (1, 'Time (UTC)', 'TEXT', 0, None, 0),\n",
       " (2, 'Booster_Version', 'TEXT', 0, None, 0),\n",
       " (3, 'Launch_Site', 'TEXT', 0, None, 0),\n",
       " (4, 'Payload', 'TEXT', 0, None, 0),\n",
       " (5, 'PAYLOAD_MASS__KG_', 'INT', 0, None, 0),\n",
       " (6, 'Orbit', 'TEXT', 0, None, 0),\n",
       " (7, 'Customer', 'TEXT', 0, None, 0),\n",
       " (8, 'Mission_Outcome', 'TEXT', 0, None, 0),\n",
       " (9, 'Landing_Outcome', 'TEXT', 0, None, 0)]"
      ]
     },
     "execution_count": 30,
     "metadata": {},
     "output_type": "execute_result"
    }
   ],
   "source": [
    "# Printing the table schema\n",
    "cur.execute(\"pragma table_info(SPACEXTABLE)\").fetchall()"
   ]
  },
  {
   "cell_type": "code",
   "execution_count": 38,
   "metadata": {},
   "outputs": [
    {
     "data": {
      "text/plain": [
       "Launch_Site\n",
       "CCAFS SLC-40    34\n",
       "CCAFS LC-40     26\n",
       "KSC LC-39A      25\n",
       "VAFB SLC-4E     16\n",
       "Name: count, dtype: int64"
      ]
     },
     "execution_count": 38,
     "metadata": {},
     "output_type": "execute_result"
    }
   ],
   "source": [
    "# Exploring the Launch site counts\n",
    "pd.read_sql(con=con, sql=\"select * from SPACEXTABLE\")[\"Launch_Site\"].value_counts()"
   ]
  },
  {
   "cell_type": "markdown",
   "id": "6d3d8e57-30e8-416c-9e9e-261d8a756db7",
   "metadata": {},
   "source": [
    "## Tasks\n",
    "\n",
    "Now write and execute SQL queries to solve the assignment tasks.\n",
    "\n",
    "**Note: If the column names are in mixed case enclose it in double quotes\n",
    "   For Example \"Landing_Outcome\"** . \n",
    "\n",
    "   \n",
    "\n",
    "### Task 1\n",
    "\n",
    "\n",
    "\n",
    "\n",
    "##### Display the names of the unique launch sites  in the space mission\n"
   ]
  },
  {
   "cell_type": "code",
   "execution_count": 9,
   "id": "8d1cf1a5-d4a1-4a22-9796-924fb46536ea",
   "metadata": {},
   "outputs": [
    {
     "data": {
      "text/plain": [
       "[('CCAFS LC-40',), ('VAFB SLC-4E',), ('KSC LC-39A',), ('CCAFS SLC-40',)]"
      ]
     },
     "execution_count": 9,
     "metadata": {},
     "output_type": "execute_result"
    }
   ],
   "source": [
    "# Selecting the unique launch sites\n",
    "cur.execute(\"select distinct Launch_Site from SPACEXTABLE\").fetchall()"
   ]
  },
  {
   "cell_type": "markdown",
   "id": "56e4a6c1-acbe-47ef-849f-97762f5ff8a9",
   "metadata": {},
   "source": [
    "\n",
    "### Task 2\n",
    "\n",
    "\n",
    "#####  Display 5 records where launch sites begin with the string 'KSC' \n"
   ]
  },
  {
   "cell_type": "code",
   "execution_count": null,
   "metadata": {},
   "outputs": [
    {
     "data": {
      "text/html": [
       "<div>\n",
       "<style scoped>\n",
       "    .dataframe tbody tr th:only-of-type {\n",
       "        vertical-align: middle;\n",
       "    }\n",
       "\n",
       "    .dataframe tbody tr th {\n",
       "        vertical-align: top;\n",
       "    }\n",
       "\n",
       "    .dataframe thead th {\n",
       "        text-align: right;\n",
       "    }\n",
       "</style>\n",
       "<table border=\"1\" class=\"dataframe\">\n",
       "  <thead>\n",
       "    <tr style=\"text-align: right;\">\n",
       "      <th></th>\n",
       "      <th>Date</th>\n",
       "      <th>Time (UTC)</th>\n",
       "      <th>Booster_Version</th>\n",
       "      <th>Launch_Site</th>\n",
       "      <th>Payload</th>\n",
       "      <th>PAYLOAD_MASS__KG_</th>\n",
       "      <th>Orbit</th>\n",
       "      <th>Customer</th>\n",
       "      <th>Mission_Outcome</th>\n",
       "      <th>Landing_Outcome</th>\n",
       "    </tr>\n",
       "  </thead>\n",
       "  <tbody>\n",
       "    <tr>\n",
       "      <th>0</th>\n",
       "      <td>2017-02-19</td>\n",
       "      <td>14:39:00</td>\n",
       "      <td>F9 FT B1031.1</td>\n",
       "      <td>KSC LC-39A</td>\n",
       "      <td>SpaceX CRS-10</td>\n",
       "      <td>2490</td>\n",
       "      <td>LEO (ISS)</td>\n",
       "      <td>NASA (CRS)</td>\n",
       "      <td>Success</td>\n",
       "      <td>Success (ground pad)</td>\n",
       "    </tr>\n",
       "    <tr>\n",
       "      <th>1</th>\n",
       "      <td>2017-03-16</td>\n",
       "      <td>6:00:00</td>\n",
       "      <td>F9 FT B1030</td>\n",
       "      <td>KSC LC-39A</td>\n",
       "      <td>EchoStar 23</td>\n",
       "      <td>5600</td>\n",
       "      <td>GTO</td>\n",
       "      <td>EchoStar</td>\n",
       "      <td>Success</td>\n",
       "      <td>No attempt</td>\n",
       "    </tr>\n",
       "    <tr>\n",
       "      <th>2</th>\n",
       "      <td>2017-03-30</td>\n",
       "      <td>22:27:00</td>\n",
       "      <td>F9 FT  B1021.2</td>\n",
       "      <td>KSC LC-39A</td>\n",
       "      <td>SES-10</td>\n",
       "      <td>5300</td>\n",
       "      <td>GTO</td>\n",
       "      <td>SES</td>\n",
       "      <td>Success</td>\n",
       "      <td>Success (drone ship)</td>\n",
       "    </tr>\n",
       "    <tr>\n",
       "      <th>3</th>\n",
       "      <td>2017-05-01</td>\n",
       "      <td>11:15:00</td>\n",
       "      <td>F9 FT B1032.1</td>\n",
       "      <td>KSC LC-39A</td>\n",
       "      <td>NROL-76</td>\n",
       "      <td>5300</td>\n",
       "      <td>LEO</td>\n",
       "      <td>NRO</td>\n",
       "      <td>Success</td>\n",
       "      <td>Success (ground pad)</td>\n",
       "    </tr>\n",
       "    <tr>\n",
       "      <th>4</th>\n",
       "      <td>2017-05-15</td>\n",
       "      <td>23:21:00</td>\n",
       "      <td>F9 FT B1034</td>\n",
       "      <td>KSC LC-39A</td>\n",
       "      <td>Inmarsat-5 F4</td>\n",
       "      <td>6070</td>\n",
       "      <td>GTO</td>\n",
       "      <td>Inmarsat</td>\n",
       "      <td>Success</td>\n",
       "      <td>No attempt</td>\n",
       "    </tr>\n",
       "  </tbody>\n",
       "</table>\n",
       "</div>"
      ],
      "text/plain": [
       "         Date Time (UTC) Booster_Version Launch_Site        Payload  \\\n",
       "0  2017-02-19   14:39:00   F9 FT B1031.1  KSC LC-39A  SpaceX CRS-10   \n",
       "1  2017-03-16    6:00:00     F9 FT B1030  KSC LC-39A    EchoStar 23   \n",
       "2  2017-03-30   22:27:00  F9 FT  B1021.2  KSC LC-39A         SES-10   \n",
       "3  2017-05-01   11:15:00   F9 FT B1032.1  KSC LC-39A        NROL-76   \n",
       "4  2017-05-15   23:21:00     F9 FT B1034  KSC LC-39A  Inmarsat-5 F4   \n",
       "\n",
       "   PAYLOAD_MASS__KG_      Orbit    Customer Mission_Outcome  \\\n",
       "0               2490  LEO (ISS)  NASA (CRS)         Success   \n",
       "1               5600        GTO    EchoStar         Success   \n",
       "2               5300        GTO         SES         Success   \n",
       "3               5300        LEO         NRO         Success   \n",
       "4               6070        GTO    Inmarsat         Success   \n",
       "\n",
       "        Landing_Outcome  \n",
       "0  Success (ground pad)  \n",
       "1            No attempt  \n",
       "2  Success (drone ship)  \n",
       "3  Success (ground pad)  \n",
       "4            No attempt  "
      ]
     },
     "execution_count": 10,
     "metadata": {},
     "output_type": "execute_result"
    }
   ],
   "source": [
    "# Filtering the data for KSC launch sites\n",
    "pd.read_sql(con=con, sql=\"select * from SPACEXTABLE where Launch_Site like '%KSC%' limit 5;\")"
   ]
  },
  {
   "cell_type": "code",
   "execution_count": 11,
   "id": "09e1d664-6b61-42b9-8e9f-47c101bdc867",
   "metadata": {},
   "outputs": [
    {
     "data": {
      "text/plain": [
       "[('2017-02-19',\n",
       "  '14:39:00',\n",
       "  'F9 FT B1031.1',\n",
       "  'KSC LC-39A',\n",
       "  'SpaceX CRS-10',\n",
       "  2490,\n",
       "  'LEO (ISS)',\n",
       "  'NASA (CRS)',\n",
       "  'Success',\n",
       "  'Success (ground pad)'),\n",
       " ('2017-03-16',\n",
       "  '6:00:00',\n",
       "  'F9 FT B1030',\n",
       "  'KSC LC-39A',\n",
       "  'EchoStar 23',\n",
       "  5600,\n",
       "  'GTO',\n",
       "  'EchoStar',\n",
       "  'Success',\n",
       "  'No attempt'),\n",
       " ('2017-03-30',\n",
       "  '22:27:00',\n",
       "  'F9 FT  B1021.2',\n",
       "  'KSC LC-39A',\n",
       "  'SES-10',\n",
       "  5300,\n",
       "  'GTO',\n",
       "  'SES',\n",
       "  'Success',\n",
       "  'Success (drone ship)'),\n",
       " ('2017-05-01',\n",
       "  '11:15:00',\n",
       "  'F9 FT B1032.1',\n",
       "  'KSC LC-39A',\n",
       "  'NROL-76',\n",
       "  5300,\n",
       "  'LEO',\n",
       "  'NRO',\n",
       "  'Success',\n",
       "  'Success (ground pad)'),\n",
       " ('2017-05-15',\n",
       "  '23:21:00',\n",
       "  'F9 FT B1034',\n",
       "  'KSC LC-39A',\n",
       "  'Inmarsat-5 F4',\n",
       "  6070,\n",
       "  'GTO',\n",
       "  'Inmarsat',\n",
       "  'Success',\n",
       "  'No attempt'),\n",
       " ('2017-06-03',\n",
       "  '21:07:00',\n",
       "  'F9 FT B1035.1',\n",
       "  'KSC LC-39A',\n",
       "  'SpaceX CRS-11',\n",
       "  2708,\n",
       "  'LEO (ISS)',\n",
       "  'NASA (CRS)',\n",
       "  'Success',\n",
       "  'Success (ground pad)'),\n",
       " ('2017-06-23',\n",
       "  '19:10:00',\n",
       "  'F9 FT  B1029.2',\n",
       "  'KSC LC-39A',\n",
       "  'BulgariaSat-1',\n",
       "  3669,\n",
       "  'GTO',\n",
       "  'Bulsatcom',\n",
       "  'Success',\n",
       "  'Success (drone ship)'),\n",
       " ('2017-07-05',\n",
       "  '23:38:00',\n",
       "  'F9 FT B1037',\n",
       "  'KSC LC-39A',\n",
       "  'Intelsat 35e',\n",
       "  6761,\n",
       "  'GTO',\n",
       "  'Intelsat',\n",
       "  'Success',\n",
       "  'No attempt'),\n",
       " ('2017-08-14',\n",
       "  '16:31:00',\n",
       "  'F9 B4 B1039.1',\n",
       "  'KSC LC-39A',\n",
       "  'SpaceX CRS-12',\n",
       "  3310,\n",
       "  'LEO (ISS)',\n",
       "  'NASA (CRS)',\n",
       "  'Success',\n",
       "  'Success (ground pad)'),\n",
       " ('2017-09-07',\n",
       "  '14:00:00',\n",
       "  'F9 B4 B1040.1',\n",
       "  'KSC LC-39A',\n",
       "  'Boeing X-37B OTV-5',\n",
       "  4990,\n",
       "  'LEO',\n",
       "  'U.S. Air Force',\n",
       "  'Success',\n",
       "  'Success (ground pad)'),\n",
       " ('2017-10-11',\n",
       "  '22:53:00',\n",
       "  'F9 FT  B1031.2',\n",
       "  'KSC LC-39A',\n",
       "  'SES-11 / EchoStar 105',\n",
       "  5200,\n",
       "  'GTO',\n",
       "  'SES EchoStar',\n",
       "  'Success',\n",
       "  'Success (drone ship)'),\n",
       " ('2017-10-30',\n",
       "  '19:34:00',\n",
       "  'F9 B4 B1042.1',\n",
       "  'KSC LC-39A',\n",
       "  'Koreasat 5A',\n",
       "  3500,\n",
       "  'GTO',\n",
       "  'KT Corporation',\n",
       "  'Success',\n",
       "  'Success (drone ship)'),\n",
       " ('2018-05-11',\n",
       "  '20:14:00',\n",
       "  'F9 B5  B1046.1',\n",
       "  'KSC LC-39A',\n",
       "  'Bangabandhu-1',\n",
       "  3600,\n",
       "  'GTO',\n",
       "  'Thales-Alenia/BTRC',\n",
       "  'Success',\n",
       "  'Success (drone ship)'),\n",
       " ('2018-11-15',\n",
       "  '20:46:00',\n",
       "  'F9 B5 B1047.2',\n",
       "  'KSC LC-39A',\n",
       "  'Es hail 2',\n",
       "  5300,\n",
       "  'GTO',\n",
       "  'Es hailSat',\n",
       "  'Success',\n",
       "  'Success'),\n",
       " ('2019-03-02',\n",
       "  '7:49:00',\n",
       "  'F9 B5B1051.1',\n",
       "  'KSC LC-39A',\n",
       "  'Crew Dragon Demo-1, SpaceX CRS-17 ',\n",
       "  12055,\n",
       "  'LEO (ISS)',\n",
       "  'NASA (CCD) ',\n",
       "  'Success',\n",
       "  'Success'),\n",
       " ('2020-01-19',\n",
       "  '15:30:00',\n",
       "  'F9 B5 B1046.4',\n",
       "  'KSC LC-39A',\n",
       "  'Crew Dragon in-flight abort test, Starlink 3 v1.0 ',\n",
       "  12050,\n",
       "  'Sub-orbital',\n",
       "  'NASA (CTS)',\n",
       "  'Success',\n",
       "  'No attempt'),\n",
       " ('2020-03-18',\n",
       "  '12:16:00',\n",
       "  'F9 B5 B1048.5',\n",
       "  'KSC LC-39A',\n",
       "  'Starlink 5 v1.0, Starlink 6 v1.0 ',\n",
       "  15600,\n",
       "  'LEO',\n",
       "  'SpaceX',\n",
       "  'Success',\n",
       "  'Failure'),\n",
       " ('2020-04-22',\n",
       "  '19:30:00',\n",
       "  'F9 B5 B1051.4',\n",
       "  'KSC LC-39A',\n",
       "  'Starlink 6 v1.0, Crew Dragon Demo-2 ',\n",
       "  15600,\n",
       "  'LEO',\n",
       "  'SpaceX',\n",
       "  'Success',\n",
       "  'Success'),\n",
       " ('2020-05-30',\n",
       "  '19:22:00',\n",
       "  'F9 B5B1058.1 ',\n",
       "  'KSC LC-39A',\n",
       "  'Crew Dragon Demo-2, Starlink 7 v1.0 ',\n",
       "  12530,\n",
       "  'LEO (ISS)',\n",
       "  'NASA (CCDev)',\n",
       "  'Success',\n",
       "  'Success'),\n",
       " ('2020-08-07',\n",
       "  '5:12:00',\n",
       "  'F9 B5 B1051.5',\n",
       "  'KSC LC-39A',\n",
       "  'Starlink 9 v1.0, SXRS-1, Starlink 10 v1.0 ',\n",
       "  14932,\n",
       "  'LEO',\n",
       "  'SpaceX, Spaceflight Industries (BlackSky), Planet Labs',\n",
       "  'Success',\n",
       "  'Success'),\n",
       " ('2020-09-03',\n",
       "  '12:46:14',\n",
       "  'F9 B5 B1060.2 ',\n",
       "  'KSC LC-39A',\n",
       "  'Starlink 11 v1.0, Starlink 12 v1.0 ',\n",
       "  15600,\n",
       "  'LEO',\n",
       "  'SpaceX',\n",
       "  'Success',\n",
       "  'Success'),\n",
       " ('2020-10-06',\n",
       "  '11:29:34',\n",
       "  'F9 B5 B1058.3 ',\n",
       "  'KSC LC-39A',\n",
       "  'Starlink 12 v1.0, Starlink 13 v1.0 ',\n",
       "  15600,\n",
       "  'LEO',\n",
       "  'SpaceX',\n",
       "  'Success',\n",
       "  'Success'),\n",
       " ('2020-10-18',\n",
       "  '12:25:57',\n",
       "  'F9 B5 B1051.6',\n",
       "  'KSC LC-39A',\n",
       "  'Starlink 13 v1.0, Starlink 14 v1.0 ',\n",
       "  15600,\n",
       "  'LEO',\n",
       "  'SpaceX',\n",
       "  'Success',\n",
       "  'Success'),\n",
       " ('2020-11-16',\n",
       "  '0:27:00',\n",
       "  'F9 B5B1061.1 ',\n",
       "  'KSC LC-39A',\n",
       "  'Crew-1, Sentinel-6 Michael Freilich ',\n",
       "  12500,\n",
       "  'LEO (ISS)',\n",
       "  'NASA (CCP)',\n",
       "  'Success',\n",
       "  'Success'),\n",
       " ('2020-12-06',\n",
       "  '16:17:08',\n",
       "  'F9 B5 B1058.4 ',\n",
       "  'KSC LC-39A',\n",
       "  'SpaceX CRS-21',\n",
       "  2972,\n",
       "  'LEO (ISS)',\n",
       "  'NASA (CRS)',\n",
       "  'Success',\n",
       "  'Success')]"
      ]
     },
     "execution_count": 11,
     "metadata": {},
     "output_type": "execute_result"
    }
   ],
   "source": [
    "# Exploring the same, but with the cursor\n",
    "cur.execute(\"select * from SPACEXTABLE where Launch_Site like '%KSC%'\").fetchall()"
   ]
  },
  {
   "cell_type": "markdown",
   "id": "c7dbc3d2-2e43-45cb-aceb-76023d0a7969",
   "metadata": {},
   "source": [
    "### Task 3\n",
    "\n",
    "\n",
    "\n",
    "\n",
    "##### Display the total payload mass carried by boosters launched by NASA (CRS)\n"
   ]
  },
  {
   "cell_type": "code",
   "execution_count": 12,
   "metadata": {},
   "outputs": [
    {
     "data": {
      "text/plain": [
       "[('ABS Eutelsat', 7759),\n",
       " ('AsiaSat', 8963),\n",
       " ('Bulsatcom', 3669),\n",
       " ('CONAE', 3000),\n",
       " ('CONAE, PlanetIQ, SpaceX', 3130),\n",
       " ('Canadian Space Agency (CSA)', 4200),\n",
       " ('EchoStar', 5600),\n",
       " ('Es hailSat', 5300),\n",
       " ('Hisdesat exactEarth SpaceX', 2150),\n",
       " ('Hispasat  NovaWurks', 6092),\n",
       " ('Inmarsat', 6070),\n",
       " ('Intelsat', 6761),\n",
       " ('Iridium Communications', 67200),\n",
       " ('Iridium Communications GFZ ‚ NASA', 6460),\n",
       " ('KT Corporation', 3500),\n",
       " ('MDA', 500),\n",
       " ('NASA (CCD) ', 12055),\n",
       " ('NASA (CCDev)', 12530),\n",
       " ('NASA (CCP)', 12500),\n",
       " ('NASA (COTS)', 525),\n",
       " ('NASA (COTS) NRO', 0),\n",
       " ('NASA (CRS)', 45596),\n",
       " ('NASA (CRS), Kacific 1', 2617),\n",
       " ('NASA (CTS)', 12050),\n",
       " ('NASA (LSP)', 362),\n",
       " ('NASA (LSP) NOAA CNES', 553),\n",
       " ('NASA / NOAA / ESA / EUMETSAT', 1192),\n",
       " ('NRO', 5300),\n",
       " ('NSPO', 475),\n",
       " ('Northrop Grumman', 5000),\n",
       " ('Orbcomm', 3350),\n",
       " ('PSN, SpaceIL / IAI', 4850),\n",
       " ('Republic of Korea Army, Spaceflight Industries (BlackSky)', 5500),\n",
       " ('SES', 23355),\n",
       " ('SES EchoStar', 5200),\n",
       " ('SKY Perfect JSAT Group', 9296),\n",
       " ('Sky Perfect JSAT, Kacific 1', 6956),\n",
       " ('SpaceX', 185220),\n",
       " ('SpaceX, Planet Labs', 31010),\n",
       " ('SpaceX, Planet Labs, PlanetIQ', 15440),\n",
       " ('SpaceX, Spaceflight Industries (BlackSky), Planet Labs', 14932),\n",
       " ('Spacecom', 6500),\n",
       " ('Spaceflight Industries', 4000),\n",
       " ('Telesat', 14135),\n",
       " ('Telkom Indonesia', 5800),\n",
       " ('Thaicom', 6425),\n",
       " ('Thales-Alenia/BTRC', 3600),\n",
       " ('Turkmenistan National Space Agency', 4707),\n",
       " ('U.S. Air Force', 4990),\n",
       " ('U.S. Air Force NASA NOAA', 570),\n",
       " ('U.S. Space Force', 4311),\n",
       " ('USAF', 4400),\n",
       " ('USSF', 4311)]"
      ]
     },
     "execution_count": 12,
     "metadata": {},
     "output_type": "execute_result"
    }
   ],
   "source": [
    "# Grouping the customers and obtaining the sum of the mass\n",
    "cur.execute(\"select Customer, sum(PAYLOAD_MASS__KG_) as total_payload from SPACEXTABLE group by Customer\").fetchall()"
   ]
  },
  {
   "cell_type": "code",
   "execution_count": 13,
   "id": "5010e025-ca78-4860-a353-fe3e3a3c7585",
   "metadata": {},
   "outputs": [
    {
     "data": {
      "text/plain": [
       "[('NASA (CRS)', 45596)]"
      ]
     },
     "execution_count": 13,
     "metadata": {},
     "output_type": "execute_result"
    }
   ],
   "source": [
    "# Calculating the NASA (CRS) payload mass sum\n",
    "cur.execute(\"select Customer, sum(PAYLOAD_MASS__KG_) as total_payload from SPACEXTABLE where Customer='NASA (CRS)'\").fetchall()"
   ]
  },
  {
   "cell_type": "markdown",
   "id": "4694320c-3146-4626-9c69-ac7b5e122447",
   "metadata": {},
   "source": [
    "### Task 4\n",
    "\n",
    "\n",
    "\n",
    "\n",
    "##### Display average payload mass carried by booster version F9 v1.1\n"
   ]
  },
  {
   "cell_type": "code",
   "execution_count": 57,
   "metadata": {},
   "outputs": [
    {
     "data": {
      "text/plain": [
       "[('F9 B4  B1039.2', 2647.0),\n",
       " ('F9 B4  B1040.2', 5384.0),\n",
       " ('F9 B4  B1041.2', 9600.0),\n",
       " ('F9 B4  B1043.2', 6460.0),\n",
       " ('F9 B4 B1039.1', 3310.0),\n",
       " ('F9 B4 B1040.1', 4990.0),\n",
       " ('F9 B4 B1041.1', 9600.0),\n",
       " ('F9 B4 B1042.1', 3500.0),\n",
       " ('F9 B4 B1043.1', 5000.0),\n",
       " ('F9 B4 B1044', 6092.0),\n",
       " ('F9 B4 B1045.1', 362.0),\n",
       " ('F9 B4 B1045.2', 2697.0),\n",
       " ('F9 B5  B1046.1', 3600.0),\n",
       " ('F9 B5 B1046.2', 5800.0),\n",
       " ('F9 B5 B1046.3', 4000.0),\n",
       " ('F9 B5 B1046.4', 12050.0),\n",
       " ('F9 B5 B1047.2', 5300.0),\n",
       " ('F9 B5 B1047.3 ', 6500.0),\n",
       " ('F9 B5 B1048.2', 3000.0),\n",
       " ('F9 B5 B1048.3', 4850.0),\n",
       " ('F9 B5 B1048.4', 15600.0),\n",
       " ('F9 B5 B1048.5', 15600.0),\n",
       " ('F9 B5 B1049.2', 9600.0),\n",
       " ('F9 B5 B1049.3', 13620.0),\n",
       " ('F9 B5 B1049.4', 15600.0),\n",
       " ('F9 B5 B1049.5', 15600.0),\n",
       " ('F9 B5 B1049.6', 15440.0),\n",
       " ('F9 B5 B1049.7 ', 15600.0),\n",
       " ('F9 B5 B1051.2 ', 4200.0),\n",
       " ('F9 B5 B1051.3', 15600.0),\n",
       " ('F9 B5 B1051.4', 15600.0),\n",
       " ('F9 B5 B1051.5', 14932.0),\n",
       " ('F9 B5 B1051.6', 15600.0),\n",
       " ('F9 B5 B1056.2 ', 2268.0),\n",
       " ('F9 B5 B1056.3 ', 6956.0),\n",
       " ('F9 B5 B1056.4', 15600.0),\n",
       " ('F9 B5 B1058.2 ', 5500.0),\n",
       " ('F9 B5 B1058.3 ', 15600.0),\n",
       " ('F9 B5 B1058.4 ', 2972.0),\n",
       " ('F9 B5 B1059.2', 1977.0),\n",
       " ('F9 B5 B1059.3', 15410.0),\n",
       " ('F9 B5 B1059.4', 3130.0),\n",
       " ('F9 B5 B1060.2 ', 15600.0),\n",
       " ('F9 B5 B1060.3', 15600.0),\n",
       " ('F9 B5B1047.1', 7075.0),\n",
       " ('F9 B5B1048.1', 9600.0),\n",
       " ('F9 B5B1049.1', 7060.0),\n",
       " ('F9 B5B1050', 2500.0),\n",
       " ('F9 B5B1051.1', 12055.0),\n",
       " ('F9 B5B1054', 4400.0),\n",
       " ('F9 B5B1056.1 ', 2495.0),\n",
       " ('F9 B5B1058.1 ', 12530.0),\n",
       " ('F9 B5B1059.1', 2617.0),\n",
       " ('F9 B5B1060.1', 4311.0),\n",
       " ('F9 B5B1061.1 ', 12500.0),\n",
       " ('F9 B5B1062.1', 4311.0),\n",
       " ('F9 B5B1063.1', 1192.0),\n",
       " ('F9 FT  B1021.2', 5300.0),\n",
       " ('F9 FT  B1029.2', 3669.0),\n",
       " ('F9 FT  B1031.2', 5200.0),\n",
       " ('F9 FT  B1032.2', 4230.0),\n",
       " ('F9 FT  B1035.2', 2205.0),\n",
       " ('F9 FT  B1036.2', 9600.0),\n",
       " ('F9 FT  B1038.2', 2150.0),\n",
       " ('F9 FT B1019', 2034.0),\n",
       " ('F9 FT B1020', 5271.0),\n",
       " ('F9 FT B1021.1', 3136.0),\n",
       " ('F9 FT B1022', 4696.0),\n",
       " ('F9 FT B1023.1', 3100.0),\n",
       " ('F9 FT B1024', 3600.0),\n",
       " ('F9 FT B1025.1', 2257.0),\n",
       " ('F9 FT B1026', 4600.0),\n",
       " ('F9 FT B1029.1', 9600.0),\n",
       " ('F9 FT B1030', 5600.0),\n",
       " ('F9 FT B1031.1', 2490.0),\n",
       " ('F9 FT B1032.1', 5300.0),\n",
       " ('F9 FT B1034', 6070.0),\n",
       " ('F9 FT B1035.1', 2708.0),\n",
       " ('F9 FT B1036.1', 9600.0),\n",
       " ('F9 FT B1037', 6761.0),\n",
       " ('F9 FT B1038.1', 475.0),\n",
       " ('F9 v1.0  B0003', 0.0),\n",
       " ('F9 v1.0  B0004', 0.0),\n",
       " ('F9 v1.0  B0005', 525.0),\n",
       " ('F9 v1.0  B0006', 500.0),\n",
       " ('F9 v1.0  B0007', 677.0),\n",
       " ('F9 v1.1', 2928.4),\n",
       " ('F9 v1.1  B1003', 500.0),\n",
       " ('F9 v1.1 B1010', 2216.0),\n",
       " ('F9 v1.1 B1011', 4428.0),\n",
       " ('F9 v1.1 B1012', 2395.0),\n",
       " ('F9 v1.1 B1013', 570.0),\n",
       " ('F9 v1.1 B1014', 4159.0),\n",
       " ('F9 v1.1 B1015', 1898.0),\n",
       " ('F9 v1.1 B1016', 4707.0),\n",
       " ('F9 v1.1 B1017', 553.0),\n",
       " ('F9 v1.1 B1018', 1952.0)]"
      ]
     },
     "execution_count": 57,
     "metadata": {},
     "output_type": "execute_result"
    }
   ],
   "source": [
    "cur.execute(\"select Booster_Version, avg(PAYLOAD_MASS__KG_) as average_payload from SPACEXTABLE group by Booster_Version\").fetchall()"
   ]
  },
  {
   "cell_type": "code",
   "execution_count": 63,
   "id": "a91e11ac-737b-40de-9998-04d53f47cd64",
   "metadata": {},
   "outputs": [
    {
     "name": "stdout",
     "output_type": "stream",
     "text": [
      "[('F9 v1.1  B1003', 2534.6666666666665)]\n"
     ]
    }
   ],
   "source": [
    "# Calculating the overall average payload mass\n",
    "print(cur.execute(\"select Booster_Version, avg(PAYLOAD_MASS__KG_) as average_payload from SPACEXTABLE where Booster_Version like '%F9 v1.1%'\").fetchall())"
   ]
  },
  {
   "cell_type": "markdown",
   "id": "093df72d-378e-45bf-a0c6-fad150e3c888",
   "metadata": {},
   "source": [
    "### Task 5\n",
    "\n",
    "##### List the date where the succesful landing outcome in drone ship was acheived.\n",
    "\n",
    "\n",
    "_Hint:Use min function_ \n"
   ]
  },
  {
   "cell_type": "code",
   "execution_count": 15,
   "id": "29e27b1f-5359-4857-afc1-85fa2db61932",
   "metadata": {},
   "outputs": [],
   "source": [
    "filtered_df = df[\n",
    "    (df[\"Landing_Outcome\"] == \"Success (drone ship)\") &\n",
    "    (df[\"Customer\"] == \"NASA (CRS)\")\n",
    "]\n"
   ]
  },
  {
   "cell_type": "code",
   "execution_count": 16,
   "metadata": {},
   "outputs": [
    {
     "data": {
      "text/html": [
       "<div>\n",
       "<style scoped>\n",
       "    .dataframe tbody tr th:only-of-type {\n",
       "        vertical-align: middle;\n",
       "    }\n",
       "\n",
       "    .dataframe tbody tr th {\n",
       "        vertical-align: top;\n",
       "    }\n",
       "\n",
       "    .dataframe thead th {\n",
       "        text-align: right;\n",
       "    }\n",
       "</style>\n",
       "<table border=\"1\" class=\"dataframe\">\n",
       "  <thead>\n",
       "    <tr style=\"text-align: right;\">\n",
       "      <th></th>\n",
       "      <th>Date</th>\n",
       "      <th>Time (UTC)</th>\n",
       "      <th>Booster_Version</th>\n",
       "      <th>Launch_Site</th>\n",
       "      <th>Payload</th>\n",
       "      <th>PAYLOAD_MASS__KG_</th>\n",
       "      <th>Orbit</th>\n",
       "      <th>Customer</th>\n",
       "      <th>Mission_Outcome</th>\n",
       "      <th>Landing_Outcome</th>\n",
       "    </tr>\n",
       "  </thead>\n",
       "  <tbody>\n",
       "    <tr>\n",
       "      <th>22</th>\n",
       "      <td>2016-04-08</td>\n",
       "      <td>20:43:00</td>\n",
       "      <td>F9 FT B1021.1</td>\n",
       "      <td>CCAFS LC-40</td>\n",
       "      <td>SpaceX CRS-8</td>\n",
       "      <td>3136</td>\n",
       "      <td>LEO (ISS)</td>\n",
       "      <td>NASA (CRS)</td>\n",
       "      <td>Success</td>\n",
       "      <td>Success (drone ship)</td>\n",
       "    </tr>\n",
       "  </tbody>\n",
       "</table>\n",
       "</div>"
      ],
      "text/plain": [
       "          Date Time (UTC) Booster_Version  Launch_Site       Payload  \\\n",
       "22  2016-04-08   20:43:00   F9 FT B1021.1  CCAFS LC-40  SpaceX CRS-8   \n",
       "\n",
       "    PAYLOAD_MASS__KG_      Orbit    Customer Mission_Outcome  \\\n",
       "22               3136  LEO (ISS)  NASA (CRS)         Success   \n",
       "\n",
       "         Landing_Outcome  \n",
       "22  Success (drone ship)  "
      ]
     },
     "execution_count": 16,
     "metadata": {},
     "output_type": "execute_result"
    }
   ],
   "source": [
    "filtered_df"
   ]
  },
  {
   "cell_type": "markdown",
   "id": "e9b74881-ba9e-4f75-aa50-9150841eb357",
   "metadata": {},
   "source": [
    "### Task 6\n",
    "\n",
    "##### List the names of the boosters which have success in ground pad  and have payload mass greater than 4000 but less than 6000\n"
   ]
  },
  {
   "cell_type": "code",
   "execution_count": 17,
   "id": "2e0429df-2138-44b0-9093-616c91a3c065",
   "metadata": {},
   "outputs": [],
   "source": [
    "ground_par_query = \"\"\"Select distinct Booster_Version\n",
    "from SPACEXTABLE\n",
    "where Landing_Outcome = 'Success (ground pad)'\n",
    "  and PAYLOAD_MASS__KG_ > 4000\n",
    "  and PAYLOAD_MASS__KG_ < 6000;\n",
    "\"\"\""
   ]
  },
  {
   "cell_type": "code",
   "execution_count": 18,
   "metadata": {},
   "outputs": [
    {
     "data": {
      "text/plain": [
       "[('F9 FT B1032.1',), ('F9 B4 B1040.1',), ('F9 B4 B1043.1',)]"
      ]
     },
     "execution_count": 18,
     "metadata": {},
     "output_type": "execute_result"
    }
   ],
   "source": [
    "cur.execute(ground_par_query).fetchall()"
   ]
  },
  {
   "cell_type": "code",
   "execution_count": 19,
   "metadata": {},
   "outputs": [
    {
     "data": {
      "text/html": [
       "<div>\n",
       "<style scoped>\n",
       "    .dataframe tbody tr th:only-of-type {\n",
       "        vertical-align: middle;\n",
       "    }\n",
       "\n",
       "    .dataframe tbody tr th {\n",
       "        vertical-align: top;\n",
       "    }\n",
       "\n",
       "    .dataframe thead th {\n",
       "        text-align: right;\n",
       "    }\n",
       "</style>\n",
       "<table border=\"1\" class=\"dataframe\">\n",
       "  <thead>\n",
       "    <tr style=\"text-align: right;\">\n",
       "      <th></th>\n",
       "      <th>Booster_Version</th>\n",
       "    </tr>\n",
       "  </thead>\n",
       "  <tbody>\n",
       "    <tr>\n",
       "      <th>0</th>\n",
       "      <td>F9 FT B1032.1</td>\n",
       "    </tr>\n",
       "    <tr>\n",
       "      <th>1</th>\n",
       "      <td>F9 B4 B1040.1</td>\n",
       "    </tr>\n",
       "    <tr>\n",
       "      <th>2</th>\n",
       "      <td>F9 B4 B1043.1</td>\n",
       "    </tr>\n",
       "  </tbody>\n",
       "</table>\n",
       "</div>"
      ],
      "text/plain": [
       "  Booster_Version\n",
       "0   F9 FT B1032.1\n",
       "1   F9 B4 B1040.1\n",
       "2   F9 B4 B1043.1"
      ]
     },
     "execution_count": 19,
     "metadata": {},
     "output_type": "execute_result"
    }
   ],
   "source": [
    "pd.read_sql(con=con, sql=ground_par_query)"
   ]
  },
  {
   "cell_type": "markdown",
   "id": "4a3317f0-2cf8-466b-abf5-6b453f4f969b",
   "metadata": {},
   "source": [
    "### Task 7\n",
    "\n",
    "\n",
    "\n",
    "\n",
    "##### List the total number of successful and failure mission outcomes\n"
   ]
  },
  {
   "cell_type": "code",
   "execution_count": 20,
   "id": "3904f5ae-acac-4322-b516-c814f71e3e30",
   "metadata": {},
   "outputs": [],
   "source": [
    "failure_succes_query = \"\"\"select \n",
    "    (select count(*)\n",
    "     from SPACEXTABLE\n",
    "     where Mission_Outcome like 'Success%'\n",
    "    ) as total_success,\n",
    "    \n",
    "    (select count(*)\n",
    "     from SPACEXTABLE\n",
    "     where Mission_Outcome like 'Fail%'\n",
    "    ) as total_failure;\n",
    "\"\"\""
   ]
  },
  {
   "cell_type": "code",
   "execution_count": 21,
   "metadata": {},
   "outputs": [
    {
     "data": {
      "text/plain": [
       "[(100, 1)]"
      ]
     },
     "execution_count": 21,
     "metadata": {},
     "output_type": "execute_result"
    }
   ],
   "source": [
    "cur.execute(failure_succes_query).fetchall()"
   ]
  },
  {
   "cell_type": "code",
   "execution_count": 22,
   "metadata": {},
   "outputs": [
    {
     "data": {
      "text/plain": [
       "Mission_Outcome\n",
       "Success                             98\n",
       "Failure (in flight)                  1\n",
       "Success (payload status unclear)     1\n",
       "Success                              1\n",
       "Name: count, dtype: int64"
      ]
     },
     "execution_count": 22,
     "metadata": {},
     "output_type": "execute_result"
    }
   ],
   "source": [
    "df[\"Mission_Outcome\"].value_counts()"
   ]
  },
  {
   "cell_type": "markdown",
   "id": "cb120ea0-d90f-4457-9a1b-7f9aa002eabb",
   "metadata": {},
   "source": [
    "### Task 8\n",
    "\n",
    "\n",
    "\n",
    "##### List the   names of the booster_versions which have carried the maximum payload mass. Use a subquery\n"
   ]
  },
  {
   "cell_type": "code",
   "execution_count": 23,
   "id": "fd8c3dd8-4197-46a8-aa75-d01f62ee50ef",
   "metadata": {},
   "outputs": [],
   "source": [
    "max_payload_query = \"\"\"select Booster_Version\n",
    "from SPACEXTABLE\n",
    "where PAYLOAD_MASS__KG_ = (\n",
    "    select MAX(PAYLOAD_MASS__KG_)\n",
    "    from SPACEXTABLE\n",
    ");\n",
    "\"\"\"\n"
   ]
  },
  {
   "cell_type": "code",
   "execution_count": 24,
   "metadata": {},
   "outputs": [
    {
     "data": {
      "text/plain": [
       "[('F9 B5 B1048.4',),\n",
       " ('F9 B5 B1049.4',),\n",
       " ('F9 B5 B1051.3',),\n",
       " ('F9 B5 B1056.4',),\n",
       " ('F9 B5 B1048.5',),\n",
       " ('F9 B5 B1051.4',),\n",
       " ('F9 B5 B1049.5',),\n",
       " ('F9 B5 B1060.2 ',),\n",
       " ('F9 B5 B1058.3 ',),\n",
       " ('F9 B5 B1051.6',),\n",
       " ('F9 B5 B1060.3',),\n",
       " ('F9 B5 B1049.7 ',)]"
      ]
     },
     "execution_count": 24,
     "metadata": {},
     "output_type": "execute_result"
    }
   ],
   "source": [
    "cur.execute(max_payload_query).fetchall()"
   ]
  },
  {
   "cell_type": "markdown",
   "id": "36282f2c-6d79-4f8e-90cb-1f12f41ff905",
   "metadata": {},
   "source": [
    "### Task 9\n",
    "\n",
    "\n",
    "##### List the records which will display the month names, succesful landing_outcomes in ground pad ,booster versions, launch_site for the months in year 2017\n",
    "**Note: SQLLite does not support monthnames. So you need to use substr(Date,6,2) for month, substr(Date,9,2) for date, substr(Date,0,5),='2017' for year.**\n"
   ]
  },
  {
   "cell_type": "code",
   "execution_count": 28,
   "id": "f218d681-ea2b-4c14-8881-f769f1ea6d47",
   "metadata": {},
   "outputs": [],
   "source": [
    "success_byYear_query = \"\"\"SELECT \n",
    "    CASE substr(Date, 6, 2)\n",
    "        WHEN '01' THEN 'January'\n",
    "        WHEN '02' THEN 'February'\n",
    "        WHEN '03' THEN 'March'\n",
    "        WHEN '04' THEN 'April'\n",
    "        WHEN '05' THEN 'May'\n",
    "        WHEN '06' THEN 'June'\n",
    "        WHEN '07' THEN 'July'\n",
    "        WHEN '08' THEN 'August'\n",
    "        WHEN '09' THEN 'September'\n",
    "        WHEN '10' THEN 'October'\n",
    "        WHEN '11' THEN 'November'\n",
    "        WHEN '12' THEN 'December'\n",
    "    END AS month_name,\n",
    "    Landing_Outcome,\n",
    "    Booster_Version,\n",
    "    Launch_Site\n",
    "FROM SPACEXTABLE\n",
    "WHERE \n",
    "    Landing_Outcome = 'Success (ground pad)'\n",
    "    AND substr(Date, 1, 4) = '2017';\n",
    "\"\"\""
   ]
  },
  {
   "cell_type": "code",
   "execution_count": 29,
   "metadata": {},
   "outputs": [
    {
     "data": {
      "text/html": [
       "<div>\n",
       "<style scoped>\n",
       "    .dataframe tbody tr th:only-of-type {\n",
       "        vertical-align: middle;\n",
       "    }\n",
       "\n",
       "    .dataframe tbody tr th {\n",
       "        vertical-align: top;\n",
       "    }\n",
       "\n",
       "    .dataframe thead th {\n",
       "        text-align: right;\n",
       "    }\n",
       "</style>\n",
       "<table border=\"1\" class=\"dataframe\">\n",
       "  <thead>\n",
       "    <tr style=\"text-align: right;\">\n",
       "      <th></th>\n",
       "      <th>month_name</th>\n",
       "      <th>Landing_Outcome</th>\n",
       "      <th>Booster_Version</th>\n",
       "      <th>Launch_Site</th>\n",
       "    </tr>\n",
       "  </thead>\n",
       "  <tbody>\n",
       "    <tr>\n",
       "      <th>0</th>\n",
       "      <td>February</td>\n",
       "      <td>Success (ground pad)</td>\n",
       "      <td>F9 FT B1031.1</td>\n",
       "      <td>KSC LC-39A</td>\n",
       "    </tr>\n",
       "    <tr>\n",
       "      <th>1</th>\n",
       "      <td>May</td>\n",
       "      <td>Success (ground pad)</td>\n",
       "      <td>F9 FT B1032.1</td>\n",
       "      <td>KSC LC-39A</td>\n",
       "    </tr>\n",
       "    <tr>\n",
       "      <th>2</th>\n",
       "      <td>June</td>\n",
       "      <td>Success (ground pad)</td>\n",
       "      <td>F9 FT B1035.1</td>\n",
       "      <td>KSC LC-39A</td>\n",
       "    </tr>\n",
       "    <tr>\n",
       "      <th>3</th>\n",
       "      <td>August</td>\n",
       "      <td>Success (ground pad)</td>\n",
       "      <td>F9 B4 B1039.1</td>\n",
       "      <td>KSC LC-39A</td>\n",
       "    </tr>\n",
       "    <tr>\n",
       "      <th>4</th>\n",
       "      <td>September</td>\n",
       "      <td>Success (ground pad)</td>\n",
       "      <td>F9 B4 B1040.1</td>\n",
       "      <td>KSC LC-39A</td>\n",
       "    </tr>\n",
       "    <tr>\n",
       "      <th>5</th>\n",
       "      <td>December</td>\n",
       "      <td>Success (ground pad)</td>\n",
       "      <td>F9 FT  B1035.2</td>\n",
       "      <td>CCAFS SLC-40</td>\n",
       "    </tr>\n",
       "  </tbody>\n",
       "</table>\n",
       "</div>"
      ],
      "text/plain": [
       "  month_name       Landing_Outcome Booster_Version   Launch_Site\n",
       "0   February  Success (ground pad)   F9 FT B1031.1    KSC LC-39A\n",
       "1        May  Success (ground pad)   F9 FT B1032.1    KSC LC-39A\n",
       "2       June  Success (ground pad)   F9 FT B1035.1    KSC LC-39A\n",
       "3     August  Success (ground pad)   F9 B4 B1039.1    KSC LC-39A\n",
       "4  September  Success (ground pad)   F9 B4 B1040.1    KSC LC-39A\n",
       "5   December  Success (ground pad)  F9 FT  B1035.2  CCAFS SLC-40"
      ]
     },
     "execution_count": 29,
     "metadata": {},
     "output_type": "execute_result"
    }
   ],
   "source": [
    "pd.read_sql(con=con, sql=success_byYear_query)"
   ]
  },
  {
   "cell_type": "code",
   "execution_count": 30,
   "metadata": {},
   "outputs": [
    {
     "data": {
      "text/plain": [
       "[('February', 'Success (ground pad)', 'F9 FT B1031.1', 'KSC LC-39A'),\n",
       " ('May', 'Success (ground pad)', 'F9 FT B1032.1', 'KSC LC-39A'),\n",
       " ('June', 'Success (ground pad)', 'F9 FT B1035.1', 'KSC LC-39A'),\n",
       " ('August', 'Success (ground pad)', 'F9 B4 B1039.1', 'KSC LC-39A'),\n",
       " ('September', 'Success (ground pad)', 'F9 B4 B1040.1', 'KSC LC-39A'),\n",
       " ('December', 'Success (ground pad)', 'F9 FT  B1035.2', 'CCAFS SLC-40')]"
      ]
     },
     "execution_count": 30,
     "metadata": {},
     "output_type": "execute_result"
    }
   ],
   "source": [
    "cur.execute(success_byYear_query).fetchall()"
   ]
  },
  {
   "cell_type": "markdown",
   "id": "ce265022-cf15-49cd-b26d-9515859ce029",
   "metadata": {},
   "source": [
    "### Task 10\n",
    "\n",
    "\n",
    "\n",
    "\n",
    "##### Rank the count of landing outcomes (such as Failure (drone ship) or Success (ground pad)) between the date 2010-06-04 and 2017-03-20, in descending order\n"
   ]
  },
  {
   "cell_type": "code",
   "execution_count": 31,
   "id": "012257ef-45c4-459f-947f-45cc0cecc40e",
   "metadata": {},
   "outputs": [],
   "source": [
    "rankin_query = \"\"\"SELECT \n",
    "    Landing_Outcome,\n",
    "    COUNT(*) AS outcome_count\n",
    "FROM SPACEXTABLE\n",
    "WHERE Date BETWEEN '2010-06-04' AND '2017-03-20'\n",
    "GROUP BY Landing_Outcome\n",
    "ORDER BY outcome_count DESC;\n",
    "\"\"\"\n"
   ]
  },
  {
   "cell_type": "code",
   "execution_count": 32,
   "metadata": {},
   "outputs": [
    {
     "data": {
      "text/html": [
       "<div>\n",
       "<style scoped>\n",
       "    .dataframe tbody tr th:only-of-type {\n",
       "        vertical-align: middle;\n",
       "    }\n",
       "\n",
       "    .dataframe tbody tr th {\n",
       "        vertical-align: top;\n",
       "    }\n",
       "\n",
       "    .dataframe thead th {\n",
       "        text-align: right;\n",
       "    }\n",
       "</style>\n",
       "<table border=\"1\" class=\"dataframe\">\n",
       "  <thead>\n",
       "    <tr style=\"text-align: right;\">\n",
       "      <th></th>\n",
       "      <th>Landing_Outcome</th>\n",
       "      <th>outcome_count</th>\n",
       "    </tr>\n",
       "  </thead>\n",
       "  <tbody>\n",
       "    <tr>\n",
       "      <th>0</th>\n",
       "      <td>No attempt</td>\n",
       "      <td>10</td>\n",
       "    </tr>\n",
       "    <tr>\n",
       "      <th>1</th>\n",
       "      <td>Success (drone ship)</td>\n",
       "      <td>5</td>\n",
       "    </tr>\n",
       "    <tr>\n",
       "      <th>2</th>\n",
       "      <td>Failure (drone ship)</td>\n",
       "      <td>5</td>\n",
       "    </tr>\n",
       "    <tr>\n",
       "      <th>3</th>\n",
       "      <td>Success (ground pad)</td>\n",
       "      <td>3</td>\n",
       "    </tr>\n",
       "    <tr>\n",
       "      <th>4</th>\n",
       "      <td>Controlled (ocean)</td>\n",
       "      <td>3</td>\n",
       "    </tr>\n",
       "    <tr>\n",
       "      <th>5</th>\n",
       "      <td>Uncontrolled (ocean)</td>\n",
       "      <td>2</td>\n",
       "    </tr>\n",
       "    <tr>\n",
       "      <th>6</th>\n",
       "      <td>Failure (parachute)</td>\n",
       "      <td>2</td>\n",
       "    </tr>\n",
       "    <tr>\n",
       "      <th>7</th>\n",
       "      <td>Precluded (drone ship)</td>\n",
       "      <td>1</td>\n",
       "    </tr>\n",
       "  </tbody>\n",
       "</table>\n",
       "</div>"
      ],
      "text/plain": [
       "          Landing_Outcome  outcome_count\n",
       "0              No attempt             10\n",
       "1    Success (drone ship)              5\n",
       "2    Failure (drone ship)              5\n",
       "3    Success (ground pad)              3\n",
       "4      Controlled (ocean)              3\n",
       "5    Uncontrolled (ocean)              2\n",
       "6     Failure (parachute)              2\n",
       "7  Precluded (drone ship)              1"
      ]
     },
     "execution_count": 32,
     "metadata": {},
     "output_type": "execute_result"
    }
   ],
   "source": [
    "pd.read_sql(con=con, sql=rankin_query)"
   ]
  },
  {
   "cell_type": "code",
   "execution_count": 33,
   "metadata": {},
   "outputs": [
    {
     "data": {
      "text/plain": [
       "[('No attempt', 10),\n",
       " ('Success (drone ship)', 5),\n",
       " ('Failure (drone ship)', 5),\n",
       " ('Success (ground pad)', 3),\n",
       " ('Controlled (ocean)', 3),\n",
       " ('Uncontrolled (ocean)', 2),\n",
       " ('Failure (parachute)', 2),\n",
       " ('Precluded (drone ship)', 1)]"
      ]
     },
     "execution_count": 33,
     "metadata": {},
     "output_type": "execute_result"
    }
   ],
   "source": [
    "cur.execute(rankin_query).fetchall()"
   ]
  },
  {
   "cell_type": "code",
   "execution_count": 34,
   "metadata": {},
   "outputs": [],
   "source": [
    "test_quer = \"\"\"SELECT payload_mass__kg_ \n",
    "FROM SPACEXTBL \n",
    "WHERE payload_mass__kg_ = (\n",
    "    SELECT MIN(payload_mass__kg_) \n",
    "    FROM SPACEXTBL\n",
    ")\n",
    "LIMIT 1\n",
    "\"\"\""
   ]
  },
  {
   "cell_type": "code",
   "execution_count": 35,
   "metadata": {},
   "outputs": [
    {
     "data": {
      "text/plain": [
       "[(0,)]"
      ]
     },
     "execution_count": 35,
     "metadata": {},
     "output_type": "execute_result"
    }
   ],
   "source": [
    "cur.execute(test_quer).fetchall()"
   ]
  },
  {
   "cell_type": "code",
   "execution_count": 36,
   "metadata": {},
   "outputs": [
    {
     "data": {
      "text/plain": [
       "np.int64(0)"
      ]
     },
     "execution_count": 36,
     "metadata": {},
     "output_type": "execute_result"
    }
   ],
   "source": [
    "df[\"PAYLOAD_MASS__KG_\"].min()"
   ]
  },
  {
   "cell_type": "markdown",
   "id": "7d50a027-0ba6-4610-94f6-462680fc31bf",
   "metadata": {},
   "source": [
    "### Reference Links\n",
    "\n",
    "* <a href =\"https://cf-courses-data.s3.us.cloud-object-storage.appdomain.cloud/IBMDeveloperSkillsNetwork-DB0201EN-SkillsNetwork/labs/Module%203/LAB-String_Patterns_Sorting_Grouping.md.html\">Hands-on Lab : String Patterns, Sorting and Grouping</a>  \n",
    "\n",
    "*  <a  href=\"https://cf-courses-data.s3.us.cloud-object-storage.appdomain.cloud/IBMDeveloperSkillsNetwork-DB0201EN-SkillsNetwork/labs/Labs_Coursera_V5/labs/Lab%20-%20Built-in%20functions%20/Hands-on_Lab__Built-in_Functions.md.html\">Hands-on Lab: Built-in functions</a>\n",
    "\n",
    "*  <a  href=\"https://cf-courses-data.s3.us.cloud-object-storage.appdomain.cloud/IBMDeveloperSkillsNetwork-DB0201EN-SkillsNetwork/labs/Labs_Coursera_V5/labs/Lab%20-%20Sub-queries%20and%20Nested%20SELECTs%20/instructional-labs.md.html\">Hands-on Lab : Sub-queries and Nested SELECT Statements</a>\n",
    "\n",
    "*   <a href=\"https://cf-courses-data.s3.us.cloud-object-storage.appdomain.cloud/IBMDeveloperSkillsNetwork-DB0201EN-SkillsNetwork/labs/Module%205/DB0201EN-Week3-1-3-SQLmagic.ipynb\">Hands-on Tutorial: Accessing Databases with SQL magic</a>\n",
    "\n",
    "*  <a href= \"https://cf-courses-data.s3.us.cloud-object-storage.appdomain.cloud/IBMDeveloperSkillsNetwork-DB0201EN-SkillsNetwork/labs/Module%205/DB0201EN-Week3-1-4-Analyzing.ipynb\">Hands-on Lab: Analyzing a real World Data Set</a>\n"
   ]
  },
  {
   "cell_type": "markdown",
   "id": "924eb35a-6048-4933-86dc-669963f0e65f",
   "metadata": {},
   "source": [
    "## Author(s)\n",
    "\n",
    "<h4> Lakshmi Holla </h4>\n"
   ]
  },
  {
   "cell_type": "markdown",
   "id": "dac5e27d-c996-4810-ab2c-8efd5de29c86",
   "metadata": {},
   "source": [
    "## Other Contributors\n",
    "\n",
    "<h4> Rav Ahuja </h4>\n"
   ]
  },
  {
   "cell_type": "markdown",
   "id": "613678da-2608-4381-bf51-19084497ebcc",
   "metadata": {},
   "source": [
    "<!--## Change log\n",
    "| Date | Version | Changed by | Change Description |\n",
    "|------|--------|--------|---------|\n",
    "| 2021-07-09 | 0.2 |Lakshmi Holla | Changes made in magic sql|\n",
    "| 2021-05-20 | 0.1 |Lakshmi Holla | Created Initial Version |\n",
    "--!>\n"
   ]
  },
  {
   "cell_type": "markdown",
   "id": "d60135eb-a256-4316-b19f-d8bdf29dee31",
   "metadata": {},
   "source": [
    "## <h3 align=\"center\"> © IBM Corporation 2021. All rights reserved. <h3/>\n"
   ]
  }
 ],
 "metadata": {
  "kernelspec": {
   "display_name": "IBM_env_2",
   "language": "python",
   "name": "python3"
  },
  "language_info": {
   "codemirror_mode": {
    "name": "ipython",
    "version": 3
   },
   "file_extension": ".py",
   "mimetype": "text/x-python",
   "name": "python",
   "nbconvert_exporter": "python",
   "pygments_lexer": "ipython3",
   "version": "3.12.7"
  },
  "prev_pub_hash": "ad05315d68f125ddeb4c7506fc84a8fe03e57af8c6799fdc4d090ebad5b3b8d1"
 },
 "nbformat": 4,
 "nbformat_minor": 4
}
